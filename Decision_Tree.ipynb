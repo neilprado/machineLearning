{
  "nbformat": 4,
  "nbformat_minor": 0,
  "metadata": {
    "colab": {
      "name": "Decision Tree",
      "provenance": [],
      "collapsed_sections": [],
      "authorship_tag": "ABX9TyPbkpHQMLdHPVsswnw8U6JU"
    },
    "kernelspec": {
      "name": "python3",
      "display_name": "Python 3"
    }
  },
  "cells": [
    {
      "cell_type": "code",
      "metadata": {
        "id": "O7U-LfRKjh-c",
        "colab_type": "code",
        "colab": {}
      },
      "source": [
        "from sklearn import tree\n",
        "from sklearn.model_selection import train_test_split\n",
        "from sklearn import metrics\n",
        "import pandas as pd\n",
        "\n",
        "#Hayes-Roth\n",
        "url = \"https://raw.githubusercontent.com/neilprado/machineLearning/master/hayes-roth.data\"\n",
        "\n",
        "train_col_names = ['name', 'x1', 'x2', 'x3', 'x4', 'label']\n",
        "test_col_names = ['x1', 'x2', 'x3', 'x4']\n",
        "\n",
        "\n",
        "\n",
        "dataset = pd.read_csv(url, header=None, names=train_col_names)\n",
        "\n",
        "x = dataset[test_col_names]\n",
        "y = dataset.label"
      ],
      "execution_count": 0,
      "outputs": []
    },
    {
      "cell_type": "code",
      "metadata": {
        "id": "QC-OXetjpcD5",
        "colab_type": "code",
        "colab": {}
      },
      "source": [
        "x_train, x_test, y_train, y_test = train_test_split(x, y, test_size=0.2, random_state=None, stratify=y)\n",
        "\n",
        "print(y_test)"
      ],
      "execution_count": 0,
      "outputs": []
    },
    {
      "cell_type": "code",
      "metadata": {
        "id": "ICuaUCWQpzXP",
        "colab_type": "code",
        "colab": {}
      },
      "source": [
        "model = tree.DecisionTreeClassifier(criterion=\"entropy\")\n",
        "model = model.fit(x_train, y_train)"
      ],
      "execution_count": 0,
      "outputs": []
    },
    {
      "cell_type": "code",
      "metadata": {
        "id": "b3GdYGDcqST_",
        "colab_type": "code",
        "colab": {}
      },
      "source": [
        "result = model.predict(x_test)\n",
        "acc = metrics.accuracy_score(result, y_test)\n",
        "show = round(acc * 100)\n",
        "print(\"{}%\".format(show))\n",
        "\n",
        "print(list(result))\n",
        "print(list(y_test))"
      ],
      "execution_count": 0,
      "outputs": []
    }
  ]
}