{
  "nbformat": 4,
  "nbformat_minor": 0,
  "metadata": {
    "colab": {
      "name": "Ecoli - All Algorithms",
      "provenance": [],
      "collapsed_sections": [],
      "authorship_tag": "ABX9TyPNpEXZGSe/57e142AtQinx",
      "include_colab_link": true
    },
    "kernelspec": {
      "name": "python3",
      "display_name": "Python 3"
    }
  },
  "cells": [
    {
      "cell_type": "markdown",
      "metadata": {
        "id": "view-in-github",
        "colab_type": "text"
      },
      "source": [
        "<a href=\"https://colab.research.google.com/github/neilprado/machineLearning/blob/master/Ecoli_All_Algorithms.ipynb\" target=\"_parent\"><img src=\"https://colab.research.google.com/assets/colab-badge.svg\" alt=\"Open In Colab\"/></a>"
      ]
    },
    {
      "cell_type": "code",
      "metadata": {
        "id": "1LiOEAHrDaJ9",
        "colab_type": "code",
        "outputId": "b2be7eec-7351-4869-de41-b2f544120990",
        "colab": {
          "base_uri": "https://localhost:8080/",
          "height": 187
        }
      },
      "source": [
        "from sklearn import tree\n",
        "from sklearn.neighbors import KNeighborsClassifier\n",
        "from sklearn.neural_network import MLPClassifier\n",
        "from sklearn.model_selection import train_test_split\n",
        "from sklearn.cluster import KMeans\n",
        "from sklearn import metrics\n",
        "import pandas as pd\n",
        "import seaborn as sb\n",
        "import matplotlib.pyplot as pl\n",
        "\n",
        "url = 'https://raw.githubusercontent.com/neilprado/machineLearning/master/ecoli.data'\n",
        "\n",
        "col_names = ['x1', 'x2', 'x3', 'x4', 'x5', 'x6', 'x7', 'label']\n",
        "feature_cols = ['x1', 'x2', 'x3', 'x4', 'x5', 'x6', 'x7']\n",
        "\n",
        "dataset = pd.read_csv(url, header=None, names=col_names)\n",
        "x = dataset[feature_cols]\n",
        "y = dataset.label\n",
        "\n",
        "decisionTreeHits = []\n",
        "decisionTreeErrors = []\n",
        "knnHits5 = []\n",
        "knnErrors5 = []\n",
        "knnHits10 = []\n",
        "knnErrors10 = []\n",
        "mlpHits1 = []\n",
        "mlpErrors1 = []\n",
        "mlpHits2 = []\n",
        "mlpErrors2 = []\n",
        "kmeansHits= []\n",
        "kmeansErrors = []\n",
        "\n",
        "for i in range(10):\n",
        "  x_train, x_test, y_train, y_test = train_test_split(x, y, test_size=0.2, random_state=i, stratify=y)\n",
        "\n",
        "  dtModel = tree.DecisionTreeClassifier(criterion=\"entropy\")\n",
        "  dtModel = dtModel.fit(x_train, y_train)\n",
        "  dtResult = dtModel.predict(x_test)\n",
        "  dtAcc = metrics.accuracy_score(dtResult, y_test)\n",
        "  dtShow = round(dtAcc * 100)\n",
        "\n",
        "  decisionTreeHits.append(dtShow)\n",
        "  decisionTreeErrors.append(100 - decisionTreeHits[i])\n",
        "\n",
        "  k5model = KNeighborsClassifier(n_neighbors=5, metric='manhattan', weights='distance')\n",
        "  k5model = k5model.fit(x_train, y_train)\n",
        "  k5Result = k5model.predict(x_test)\n",
        "  k5Acc = metrics.accuracy_score(k5Result, y_test)\n",
        "  k5Show = round(k5Acc * 100)\n",
        "\n",
        "  knnHits5.append(k5Show)\n",
        "  knnErrors5.append(100 - knnHits5[i])\n",
        "\n",
        "  k10model = KNeighborsClassifier(n_neighbors=10, metric='manhattan', weights='distance')\n",
        "  k10model = k10model.fit(x_train, y_train)\n",
        "  k10Result = k10model.predict(x_test)\n",
        "  k10Acc = metrics.accuracy_score(k10Result, y_test)\n",
        "  k10Show = round(k10Acc * 100)\n",
        "\n",
        "  knnHits10.append(k10Show)\n",
        "  knnErrors10.append(100 - knnHits10[i])\n",
        "\n",
        "  mlpModel1 = MLPClassifier(hidden_layer_sizes=(10,8), activation='tanh', max_iter=3000)\n",
        "  mlpModel1 = mlpModel1.fit(x_train, y_train)\n",
        "  mlpresult1 = mlpModel1.predict(x_test)\n",
        "  mlpAcc1 = metrics.accuracy_score(mlpresult1, y_test)\n",
        "  mlpShow1 = round(mlpAcc1 * 100)\n",
        "\n",
        "  mlpHits1.append(mlpShow1)\n",
        "  mlpErrors1.append(100 - mlpHits1[i])\n",
        "\n",
        "\n",
        "  mlpModel2 = MLPClassifier(hidden_layer_sizes=(8,6), activation='tanh', max_iter=3000)\n",
        "  mlpModel2 = mlpModel2.fit(x_train, y_train)\n",
        "  mlpresult2 = mlpModel2.predict(x_test)\n",
        "  mlpAcc2 = metrics.accuracy_score(mlpresult2, y_test)\n",
        "  mlpShow2 = round(mlpAcc2 * 100)\n",
        "\n",
        "  mlpHits2.append(mlpShow2)\n",
        "  mlpErrors2.append(100 - mlpHits2[i])\n",
        "\n",
        "  kmeansModel = KMeans(n_clusters=9, max_iter=300)\n",
        "  kmeansModel = kmeansModel.fit(x_train, y_train)\n",
        "  kmeansResult = kmeansModel.predict(x_test)\n",
        "  kmeansAcc = metrics.accuracy_score(kmeansResult, y_test)\n",
        "  kmeansShow = round(kmeansAcc * 100)\n",
        "\n",
        "  kmeansHits.append(kmeansShow)\n",
        "  kmeansErrors.append(100 - kmeansHits[i])\n",
        "\n",
        "  print(\"K-Means\", kmeansShow)\n",
        "\n"
      ],
      "execution_count": 0,
      "outputs": [
        {
          "output_type": "stream",
          "text": [
            "K-Means 47.0\n",
            "K-Means 16.0\n",
            "K-Means 19.0\n",
            "K-Means 0.0\n",
            "K-Means 21.0\n",
            "K-Means 0.0\n",
            "K-Means 1.0\n",
            "K-Means 29.0\n",
            "K-Means 18.0\n",
            "K-Means 26.0\n"
          ],
          "name": "stdout"
        }
      ]
    },
    {
      "cell_type": "code",
      "metadata": {
        "id": "g8brSatuFOnG",
        "colab_type": "code",
        "outputId": "66fecc50-ff1c-4caf-8534-8d985d0a08df",
        "colab": {
          "base_uri": "https://localhost:8080/",
          "height": 905
        }
      },
      "source": [
        "successMLP1 = [x for x in range(len(mlpHits1))]\n",
        "failureMLP1 = [x for x in range(len(mlpErrors1))]\n",
        "pl.bar(successMLP1, mlpHits1, color='blue')\n",
        "pl.bar(failureMLP1, mlpErrors1, color='orange')\n",
        "pl.xlabel('época')\n",
        "pl.ylabel('percentual')\n",
        "pl.title('Gráfico de sucesso da MLP na primeira arquitetura')\n",
        "pl.show()\n",
        "\n",
        "successMLP2 = [x for x in range(len(mlpHits2))]\n",
        "failureMLP2 = [x for x in range(len(mlpErrors2))]\n",
        "pl.bar(successMLP2, mlpHits2, color='blue')\n",
        "pl.bar(failureMLP2, mlpErrors2, color='orange')\n",
        "pl.xlabel('época')\n",
        "pl.ylabel('percentual')\n",
        "pl.title('Gráfico de sucesso da MLP na segunda arquitetura')\n",
        "pl.show()\n",
        "\n",
        "successKMeans = [j for j in range(len(kmeansHits))]\n",
        "failureKMeans = [j for j in range(len(kmeansErrors))]\n",
        "\n",
        "pl.bar(failureKMeans, kmeansErrors, color='orange')\n",
        "pl.bar(successKMeans, kmeansHits, color='blue')\n",
        "pl.xlabel('época')\n",
        "pl.ylabel('percentual')\n",
        "pl.title('Gráfico de sucesso do K-Means')\n",
        "pl.show()\n",
        "\n",
        "print(mlpHits1)\n",
        "print(mlpHits2)\n",
        "print(kmeansHits)\n",
        "\n",
        "df = pd.DataFrame({'Taxa de Acerto - Árvore de Decisão': decisionTreeHits, \n",
        "                   'Taxa de Erro - Árvore de Decisão': decisionTreeErrors, \n",
        "                   'Taxa de acerto - KNN(5)': knnHits5, 'Taxa de Erro - KNN(5)': knnErrors5,\n",
        "                   'Taxa de acerto - KNN(10)': knnHits10, 'Taxa de Erro - KNN(10)': knnErrors10})\n",
        "#print(df.sort_values(by='Taxa de Acerto'))\n",
        "df.to_csv(\"ecoli.csv\", sep=',', index=False)"
      ],
      "execution_count": 0,
      "outputs": [
        {
          "output_type": "display_data",
          "data": {
            "image/png": "[encoded data removed]",
            "text/plain": [
              "<Figure size 432x288 with 1 Axes>"
            ]
          },
          "metadata": {
            "tags": []
          }
        },
        {
          "output_type": "display_data",
          "data": {
            "image/png": "[encoded data removed]",
            "text/plain": [
              "<Figure size 432x288 with 1 Axes>"
            ]
          },
          "metadata": {
            "tags": []
          }
        },
        {
          "output_type": "display_data",
          "data": {
            "image/png": "[encoded data removed]",
            "text/plain": [
              "<Figure size 432x288 with 1 Axes>"
            ]
          },
          "metadata": {
            "tags": []
          }
        },
        {
          "output_type": "stream",
          "text": [
            "[96.0, 88.0, 88.0, 90.0, 84.0, 85.0, 82.0, 90.0, 87.0, 88.0]\n",
            "[91.0, 88.0, 88.0, 85.0, 88.0, 84.0, 82.0, 87.0, 90.0, 88.0]\n",
            "[40.0, 37.0, 35.0, 3.0, 31.0, 18.0, 31.0, 34.0, 9.0, 21.0]\n"
          ],
          "name": "stdout"
        }
      ]
    },
    {
      "cell_type": "code",
      "metadata": {
        "id": "nCAOnV3nJiWc",
        "colab_type": "code",
        "colab": {}
      },
      "source": [
        "from google.colab import drive\n",
        "drive.mount('/content/drive')"
      ],
      "execution_count": 0,
      "outputs": []
    }
  ]
}