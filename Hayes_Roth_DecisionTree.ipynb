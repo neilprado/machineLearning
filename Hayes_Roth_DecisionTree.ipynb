{
  "nbformat": 4,
  "nbformat_minor": 0,
  "metadata": {
    "colab": {
      "name": "Hayes-Roth DecisionTree",
      "provenance": [],
      "authorship_tag": "ABX9TyMhmf1cQjlVyWXqAjMBQZV7",
      "include_colab_link": true
    },
    "kernelspec": {
      "name": "python3",
      "display_name": "Python 3"
    }
  },
  "cells": [
    {
      "cell_type": "markdown",
      "metadata": {
        "id": "view-in-github",
        "colab_type": "text"
      },
      "source": [
        "<a href=\"https://colab.research.google.com/github/neilprado/machineLearning/blob/master/Hayes_Roth_DecisionTree.ipynb\" target=\"_parent\"><img src=\"https://colab.research.google.com/assets/colab-badge.svg\" alt=\"Open In Colab\"/></a>"
      ]
    },
    {
      "cell_type": "code",
      "metadata": {
        "id": "O7U-LfRKjh-c",
        "colab_type": "code",
        "colab": {}
      },
      "source": [
        "from sklearn import tree\n",
        "from sklearn.model_selection import train_test_split\n",
        "from sklearn import metrics\n",
        "import pandas as pd\n",
        "\n",
        "url = \"https://raw.githubusercontent.com/neilprado/machineLearning/master/hayes-roth.data\"\n",
        "\n",
        "train_col_names = ['name', 'x1', 'x2', 'x3', 'x4', 'label']\n",
        "test_col_names = ['x1', 'x2', 'x3', 'x4']\n",
        "\n",
        "dataset = pd.read_csv(url, header=None, names=train_col_names)\n",
        "\n",
        "x = dataset[test_col_names]\n",
        "y = dataset.label"
      ],
      "execution_count": 0,
      "outputs": []
    },
    {
      "cell_type": "code",
      "metadata": {
        "id": "QC-OXetjpcD5",
        "colab_type": "code",
        "colab": {
          "base_uri": "https://localhost:8080/",
          "height": 578
        },
        "outputId": "3a081c91-5803-4971-850b-60d452ce11ff"
      },
      "source": [
        "x_train, x_test, y_train, y_test = train_test_split(x, y, test_size=0.2, random_state=None, stratify=y)\n",
        "\n",
        "print(y_test)"
      ],
      "execution_count": 22,
      "outputs": [
        {
          "output_type": "stream",
          "text": [
            "154    1\n",
            "106    2\n",
            "37     2\n",
            "99     2\n",
            "94     1\n",
            "91     2\n",
            "155    2\n",
            "107    3\n",
            "152    1\n",
            "96     1\n",
            "27     2\n",
            "70     3\n",
            "68     3\n",
            "41     2\n",
            "86     2\n",
            "139    1\n",
            "145    2\n",
            "97     1\n",
            "120    2\n",
            "76     1\n",
            "63     1\n",
            "151    2\n",
            "4      3\n",
            "11     3\n",
            "53     1\n",
            "124    1\n",
            "119    3\n",
            "117    2\n",
            "102    2\n",
            "103    1\n",
            "23     1\n",
            "21     1\n",
            "Name: label, dtype: int64\n"
          ],
          "name": "stdout"
        }
      ]
    },
    {
      "cell_type": "code",
      "metadata": {
        "id": "ICuaUCWQpzXP",
        "colab_type": "code",
        "colab": {}
      },
      "source": [
        "model = tree.DecisionTreeClassifier(criterion=\"entropy\")\n",
        "model = model.fit(x_train, y_train)"
      ],
      "execution_count": 0,
      "outputs": []
    },
    {
      "cell_type": "code",
      "metadata": {
        "id": "b3GdYGDcqST_",
        "colab_type": "code",
        "colab": {
          "base_uri": "https://localhost:8080/",
          "height": 68
        },
        "outputId": "858075bd-5413-44d0-f498-16b7c071061b"
      },
      "source": [
        "result = model.predict(x_test)\n",
        "acc = metrics.accuracy_score(result, y_test)\n",
        "show = round(acc * 100)\n",
        "print(\"{}%\".format(show))\n",
        "\n",
        "print(list(result))\n",
        "print(list(y_test))"
      ],
      "execution_count": 14,
      "outputs": [
        {
          "output_type": "stream",
          "text": [
            "78.0%\n",
            "[2, 2, 2, 2, 2, 3, 3, 2, 1, 3, 2, 1, 3, 1, 2, 3, 1, 1, 2, 1, 2, 1, 1, 2, 1, 2, 1, 2, 2, 1, 3, 1]\n",
            "[1, 2, 2, 1, 2, 3, 3, 2, 2, 3, 1, 2, 3, 1, 2, 3, 1, 1, 2, 1, 2, 1, 1, 1, 1, 2, 2, 2, 2, 1, 3, 1]\n"
          ],
          "name": "stdout"
        }
      ]
    }
  ]
}